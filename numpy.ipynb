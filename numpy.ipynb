{
 "cells": [
  {
   "cell_type": "markdown",
   "id": "cd92ae16",
   "metadata": {},
   "source": [
    "#### Numpy\n",
    "\n",
    "Numpy is a fundamental library for scientific computing in python. It provides support for arrays and martices, along with the collection of mathematical functions to operate on these data structures."
   ]
  },
  {
   "cell_type": "code",
   "execution_count": 2,
   "id": "9ce4ed10",
   "metadata": {},
   "outputs": [],
   "source": [
    "import numpy as np"
   ]
  },
  {
   "cell_type": "code",
   "execution_count": 3,
   "id": "3232cf51",
   "metadata": {},
   "outputs": [
    {
     "name": "stdout",
     "output_type": "stream",
     "text": [
      "[1 2 3 4 5]\n",
      "<class 'numpy.ndarray'>\n",
      "(5,)\n"
     ]
    }
   ],
   "source": [
    "## create array using numpy\n",
    "## create 1D array\n",
    "\n",
    "arr1 = np.array([1, 2, 3, 4, 5])\n",
    "print(arr1)\n",
    "print(type(arr1))\n",
    "print(arr1.shape)"
   ]
  },
  {
   "cell_type": "code",
   "execution_count": 4,
   "id": "0e81306c",
   "metadata": {},
   "outputs": [
    {
     "data": {
      "text/plain": [
       "array([[1, 2, 3, 4, 5]])"
      ]
     },
     "execution_count": 4,
     "metadata": {},
     "output_type": "execute_result"
    }
   ],
   "source": [
    "arr2 = np.array([1, 2, 3, 4, 5])\n",
    "arr2.reshape(1, 5) # 1-row and 5-columns"
   ]
  },
  {
   "cell_type": "code",
   "execution_count": 5,
   "id": "96155b2a",
   "metadata": {},
   "outputs": [
    {
     "name": "stdout",
     "output_type": "stream",
     "text": [
      "(3, 5)\n"
     ]
    }
   ],
   "source": [
    "arr3 = np.array([[1, 2, 3, 4, 5],[6, 7, 8, 9, 10], [11, 12, 13, 14, 15]])\n",
    "print(arr3.shape)"
   ]
  },
  {
   "cell_type": "code",
   "execution_count": 6,
   "id": "fb308a0b",
   "metadata": {},
   "outputs": [
    {
     "data": {
      "text/plain": [
       "array([0, 2, 4, 6, 8])"
      ]
     },
     "execution_count": 6,
     "metadata": {},
     "output_type": "execute_result"
    }
   ],
   "source": [
    "## Creating arrays using methods\n",
    "\n",
    "np.arange(0, 10, 2) # Create array from elements in range 0 to 10(10 excluded) with a step of 2"
   ]
  },
  {
   "cell_type": "code",
   "execution_count": 7,
   "id": "9859360d",
   "metadata": {},
   "outputs": [
    {
     "data": {
      "text/plain": [
       "array([[0],\n",
       "       [2],\n",
       "       [4],\n",
       "       [6],\n",
       "       [8]])"
      ]
     },
     "execution_count": 7,
     "metadata": {},
     "output_type": "execute_result"
    }
   ],
   "source": [
    "np.arange(0, 10, 2).reshape(5,1)"
   ]
  },
  {
   "cell_type": "code",
   "execution_count": 8,
   "id": "e392b592",
   "metadata": {},
   "outputs": [
    {
     "data": {
      "text/plain": [
       "array([[1., 1., 1., 1.],\n",
       "       [1., 1., 1., 1.],\n",
       "       [1., 1., 1., 1.]])"
      ]
     },
     "execution_count": 8,
     "metadata": {},
     "output_type": "execute_result"
    }
   ],
   "source": [
    "## In-built functions present in numpy arrays\n",
    "\n",
    "np.ones((3,4))"
   ]
  },
  {
   "cell_type": "code",
   "execution_count": 9,
   "id": "4fa0194e",
   "metadata": {},
   "outputs": [
    {
     "data": {
      "text/plain": [
       "array([[1., 0., 0.],\n",
       "       [0., 1., 0.],\n",
       "       [0., 0., 1.]])"
      ]
     },
     "execution_count": 9,
     "metadata": {},
     "output_type": "execute_result"
    }
   ],
   "source": [
    "# Identity Matrix\n",
    "\n",
    "np.eye(3)"
   ]
  },
  {
   "cell_type": "code",
   "execution_count": null,
   "id": "e9530fd7",
   "metadata": {},
   "outputs": [
    {
     "name": "stdout",
     "output_type": "stream",
     "text": [
      "2\n"
     ]
    }
   ],
   "source": [
    "print(arr3.ndim) # Number of dimensions"
   ]
  },
  {
   "cell_type": "code",
   "execution_count": null,
   "id": "2be0539e",
   "metadata": {},
   "outputs": [
    {
     "name": "stdout",
     "output_type": "stream",
     "text": [
      "15\n"
     ]
    }
   ],
   "source": [
    "print(arr3.size) # Number of elements"
   ]
  },
  {
   "cell_type": "code",
   "execution_count": 12,
   "id": "6efe049f",
   "metadata": {},
   "outputs": [
    {
     "name": "stdout",
     "output_type": "stream",
     "text": [
      "int64\n"
     ]
    }
   ],
   "source": [
    "print(arr3.dtype) # Data-type"
   ]
  },
  {
   "cell_type": "code",
   "execution_count": 13,
   "id": "4cac614a",
   "metadata": {},
   "outputs": [
    {
     "name": "stdout",
     "output_type": "stream",
     "text": [
      "8\n"
     ]
    }
   ],
   "source": [
    "print(arr3.itemsize) # Element size in bytes"
   ]
  },
  {
   "cell_type": "markdown",
   "id": "eaad30d1",
   "metadata": {},
   "source": [
    "#### Numpy Vectorised Operations"
   ]
  },
  {
   "cell_type": "code",
   "execution_count": 14,
   "id": "4dedf6d2",
   "metadata": {},
   "outputs": [],
   "source": [
    "arr5 = np.array([1, 2, 3, 4, 5])\n",
    "arr6 = np.array([6, 7, 8, 9, 10])"
   ]
  },
  {
   "cell_type": "code",
   "execution_count": 15,
   "id": "1de5ac5f",
   "metadata": {},
   "outputs": [
    {
     "name": "stdout",
     "output_type": "stream",
     "text": [
      "Addition: [ 7  9 11 13 15]\n",
      "Subtraction: [5 5 5 5 5]\n",
      "Mmultiplication: [ 6 14 24 36 50]\n",
      "Division: [6.         3.5        2.66666667 2.25       2.        ]\n"
     ]
    }
   ],
   "source": [
    "## Element wise addition\n",
    "print(\"Addition:\", arr5+arr6)\n",
    "\n",
    "## Element wise subtraction\n",
    "print(\"Subtraction:\", arr6-arr5)\n",
    "\n",
    "## Element wise multiplication\n",
    "print(\"Mmultiplication:\", arr5*arr6)\n",
    "\n",
    "## Element wise divisiion\n",
    "print(\"Division:\", arr6/arr5)"
   ]
  },
  {
   "cell_type": "code",
   "execution_count": 23,
   "id": "86e9fce3",
   "metadata": {},
   "outputs": [
    {
     "name": "stdout",
     "output_type": "stream",
     "text": [
      "[1.         1.41421356 1.73205081 2.         2.23606798]\n",
      "[  2.71828183   7.3890561   20.08553692  54.59815003 148.4131591 ]\n",
      "[ 0.84147098  0.90929743  0.14112001 -0.7568025  -0.95892427]\n",
      "[0.         0.69314718 1.09861229 1.38629436 1.60943791]\n"
     ]
    }
   ],
   "source": [
    "## Universal functions -> Functions that apply to thhe  entire array\n",
    "\n",
    "# Square Root\n",
    "print(np.sqrt(arr5))\n",
    "\n",
    "# Exponential\n",
    "print(np.exp(arr5))\n",
    "\n",
    "# Sine\n",
    "print(np.sin(arr5))\n",
    "\n",
    "# Natural log\n",
    "print(np.log(arr5))"
   ]
  },
  {
   "cell_type": "code",
   "execution_count": 24,
   "id": "24464b9b",
   "metadata": {},
   "outputs": [
    {
     "name": "stdout",
     "output_type": "stream",
     "text": [
      "[[ 1  2  3  4]\n",
      " [ 5  6  7  8]\n",
      " [ 9 10 11 12]]\n"
     ]
    }
   ],
   "source": [
    "## Array Slicing and Indexing\n",
    "\n",
    "arr = np.array([[1, 2, 3, 4], [5, 6, 7, 8], [9, 10, 11, 12]])\n",
    "print(arr)"
   ]
  },
  {
   "cell_type": "code",
   "execution_count": 29,
   "id": "c88b4821",
   "metadata": {},
   "outputs": [
    {
     "name": "stdout",
     "output_type": "stream",
     "text": [
      "3\n",
      "3\n"
     ]
    }
   ],
   "source": [
    "print(arr[0][2])\n",
    "print(arr[0,2])"
   ]
  },
  {
   "cell_type": "code",
   "execution_count": 28,
   "id": "938a39c1",
   "metadata": {},
   "outputs": [
    {
     "name": "stdout",
     "output_type": "stream",
     "text": [
      "[[ 7  8]\n",
      " [11 12]]\n"
     ]
    }
   ],
   "source": [
    "print(arr[1:,2:])"
   ]
  },
  {
   "cell_type": "code",
   "execution_count": 30,
   "id": "f3dd10e0",
   "metadata": {},
   "outputs": [
    {
     "name": "stdout",
     "output_type": "stream",
     "text": [
      "[[100   2   3   4]\n",
      " [  5   6   7   8]\n",
      " [  9  10  11  12]]\n"
     ]
    }
   ],
   "source": [
    "## Modify array elements\n",
    "arr[0,0] = 100\n",
    "print(arr)"
   ]
  },
  {
   "cell_type": "code",
   "execution_count": 31,
   "id": "549f77af",
   "metadata": {},
   "outputs": [
    {
     "name": "stdout",
     "output_type": "stream",
     "text": [
      "[[100   2   3   4]\n",
      " [  9   9   9   9]\n",
      " [  9   9   9   9]]\n"
     ]
    }
   ],
   "source": [
    "arr[1:] = 9\n",
    "print(arr)"
   ]
  },
  {
   "cell_type": "code",
   "execution_count": 33,
   "id": "d3afe222",
   "metadata": {},
   "outputs": [
    {
     "name": "stdout",
     "output_type": "stream",
     "text": [
      "Mean: 3.0\n",
      "Standard Deviation: 1.4142135623730951\n",
      "Normalized data: [-1.41421356 -0.70710678  0.          0.70710678  1.41421356]\n"
     ]
    }
   ],
   "source": [
    "### Statictical concept: Normaliztion -> To have mean of 0 and standard deviation of 1\n",
    "\n",
    "data = np.array([1, 2, 3, 4, 5])\n",
    "\n",
    "# Calculate the mean and  standard deviation\n",
    "mean = np.mean(data)\n",
    "std_dev = np.std(data)\n",
    "\n",
    "print(\"Mean:\", mean)\n",
    "print(\"Standard Deviation:\", std_dev)\n",
    "\n",
    "# Normalized data\n",
    "normalized_data = (data-mean)/std_dev\n",
    "print(\"Normalized data:\", normalized_data)"
   ]
  },
  {
   "cell_type": "code",
   "execution_count": 35,
   "id": "ad628736",
   "metadata": {},
   "outputs": [
    {
     "name": "stdout",
     "output_type": "stream",
     "text": [
      "3.0\n",
      "3.0\n",
      "1.4142135623730951\n",
      "2.0\n"
     ]
    }
   ],
   "source": [
    "### Statistics: Mean, median, mode, standard deviation, variance\n",
    "\n",
    "mean = np.mean(data)\n",
    "print(mean)\n",
    "\n",
    "median = np.median(data)\n",
    "print(median)\n",
    "\n",
    "std_dev = np.std(data)\n",
    "print(std_dev)\n",
    "\n",
    "variance = np.var(data)\n",
    "print(variance)"
   ]
  },
  {
   "cell_type": "code",
   "execution_count": 40,
   "id": "6ff05026",
   "metadata": {},
   "outputs": [
    {
     "name": "stdout",
     "output_type": "stream",
     "text": [
      "[False False False False False  True  True  True  True  True]\n"
     ]
    },
    {
     "data": {
      "text/plain": [
       "array([6, 7, 8])"
      ]
     },
     "execution_count": 40,
     "metadata": {},
     "output_type": "execute_result"
    }
   ],
   "source": [
    "### Logical Operation\n",
    "\n",
    "data = np.array([1, 2, 3, 4, 5, 6, 7, 8, 9, 10])\n",
    "\n",
    "print(data>5)\n",
    "\n",
    "data[(data>5) & (data<9)]"
   ]
  },
  {
   "cell_type": "code",
   "execution_count": null,
   "id": "eef48b7e",
   "metadata": {},
   "outputs": [],
   "source": []
  }
 ],
 "metadata": {
  "kernelspec": {
   "display_name": "Python 3",
   "language": "python",
   "name": "python3"
  },
  "language_info": {
   "codemirror_mode": {
    "name": "ipython",
    "version": 3
   },
   "file_extension": ".py",
   "mimetype": "text/x-python",
   "name": "python",
   "nbconvert_exporter": "python",
   "pygments_lexer": "ipython3",
   "version": "3.13.0"
  }
 },
 "nbformat": 4,
 "nbformat_minor": 5
}
