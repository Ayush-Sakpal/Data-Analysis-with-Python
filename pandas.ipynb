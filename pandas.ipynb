{
 "cells": [
  {
   "cell_type": "markdown",
   "id": "528bc13f",
   "metadata": {},
   "source": [
    "#### Pandas - DataFrames and Series\n",
    "\n",
    "Pandas is a powerful data manipulation library in python, widely used for data analysis and data cleaning. It provides two primary data structures: Series and DataFrame. \n",
    "\n",
    "A Series a one-dimensional array-like object.\n",
    "\n",
    "A DataFrame is two dimensional, size-mutable, and potentially heterogenous tabular data structure with labelled axes(rows and columns)"
   ]
  },
  {
   "cell_type": "code",
   "execution_count": 1,
   "id": "6e21248a",
   "metadata": {},
   "outputs": [],
   "source": [
    "import pandas as pd"
   ]
  },
  {
   "cell_type": "code",
   "execution_count": 3,
   "id": "8fc17fe0",
   "metadata": {},
   "outputs": [
    {
     "name": "stdout",
     "output_type": "stream",
     "text": [
      "0    1\n",
      "1    2\n",
      "2    3\n",
      "3    4\n",
      "4    5\n",
      "dtype: int64\n",
      "<class 'pandas.core.series.Series'>\n"
     ]
    }
   ],
   "source": [
    "## Series\n",
    "\n",
    "## Series -> One-dimensional data structure in python that can hold any data type. It is similar to a column in a table.\n",
    "\n",
    "data = [1, 2, 3, 4, 5]\n",
    "series = pd.Series(data)\n",
    "print(series)\n",
    "print(type(series))"
   ]
  },
  {
   "cell_type": "code",
   "execution_count": 4,
   "id": "7c40ed7a",
   "metadata": {},
   "outputs": [
    {
     "name": "stdout",
     "output_type": "stream",
     "text": [
      "a    1\n",
      "b    2\n",
      "c    3\n",
      "d    4\n",
      "e    5\n",
      "dtype: int64\n"
     ]
    }
   ],
   "source": [
    "## Create a series from dictionary\n",
    "\n",
    "data = {'a':1, 'b':2, 'c':3, 'd':4, 'e':5}\n",
    "series = pd.Series(data)\n",
    "print(series)"
   ]
  },
  {
   "cell_type": "code",
   "execution_count": 5,
   "id": "758f5cf0",
   "metadata": {},
   "outputs": [
    {
     "name": "stdout",
     "output_type": "stream",
     "text": [
      "a    10\n",
      "b    20\n",
      "c    30\n",
      "d    40\n",
      "e    50\n",
      "dtype: int64\n"
     ]
    }
   ],
   "source": [
    "data = [10, 20, 30, 40, 50]\n",
    "index = ['a', 'b', 'c', 'd', 'e']\n",
    "\n",
    "series = pd.Series(data, index = index)\n",
    "print(series)"
   ]
  },
  {
   "cell_type": "code",
   "execution_count": 6,
   "id": "5173cf98",
   "metadata": {},
   "outputs": [
    {
     "name": "stdout",
     "output_type": "stream",
     "text": [
      "     Name  Age      City\n",
      "0  Aayush   22      Pune\n",
      "1  Harvey   48  New York\n",
      "2    Mike   38  Banglore\n",
      "3   Louis   52     Noida\n"
     ]
    }
   ],
   "source": [
    "## DataFrame\n",
    "\n",
    "## Create a dataframe from a dictionary of list\n",
    "\n",
    "data = {\n",
    "  'Name' : ['Aayush', 'Harvey', 'Mike', 'Louis'],\n",
    "  'Age': [22, 48, 38, 52],\n",
    "  'City': ['Pune', 'New York', 'Banglore', 'Noida']\n",
    "}\n",
    "\n",
    "df = pd.DataFrame(data)\n",
    "print(df)"
   ]
  },
  {
   "cell_type": "code",
   "execution_count": 8,
   "id": "23a33e7e",
   "metadata": {},
   "outputs": [
    {
     "name": "stdout",
     "output_type": "stream",
     "text": [
      "     Name  Age      City\n",
      "0  Aayush   22      Pune\n",
      "1  Harvey   48  New York\n",
      "2    Mike   38  Banglore\n",
      "3   Louis   52     Noida\n"
     ]
    }
   ],
   "source": [
    "## Create a dataframe from a ist of dictionaries\n",
    "\n",
    "data = [\n",
    "  {'Name': 'Aayush', 'Age': 22, 'City': 'Pune'},\n",
    "  {'Name': 'Harvey', 'Age': 48, 'City': 'New York'},\n",
    "  {'Name': 'Mike', 'Age': 38, 'City': 'Banglore'},\n",
    "  {'Name': 'Louis', 'Age': 52, 'City': 'Noida'},\n",
    "]\n",
    "\n",
    "df = pd.DataFrame(data)\n",
    "print(df)"
   ]
  },
  {
   "cell_type": "code",
   "execution_count": null,
   "id": "ba04c337",
   "metadata": {},
   "outputs": [
    {
     "data": {
      "text/html": [
       "<div>\n",
       "<style scoped>\n",
       "    .dataframe tbody tr th:only-of-type {\n",
       "        vertical-align: middle;\n",
       "    }\n",
       "\n",
       "    .dataframe tbody tr th {\n",
       "        vertical-align: top;\n",
       "    }\n",
       "\n",
       "    .dataframe thead th {\n",
       "        text-align: right;\n",
       "    }\n",
       "</style>\n",
       "<table border=\"1\" class=\"dataframe\">\n",
       "  <thead>\n",
       "    <tr style=\"text-align: right;\">\n",
       "      <th></th>\n",
       "      <th>Order ID</th>\n",
       "      <th>Amount</th>\n",
       "      <th>Profit</th>\n",
       "      <th>Quantity</th>\n",
       "      <th>Category</th>\n",
       "      <th>Sub-Category</th>\n",
       "      <th>PaymentMode</th>\n",
       "    </tr>\n",
       "  </thead>\n",
       "  <tbody>\n",
       "    <tr>\n",
       "      <th>0</th>\n",
       "      <td>B-25681</td>\n",
       "      <td>1096</td>\n",
       "      <td>658</td>\n",
       "      <td>7</td>\n",
       "      <td>Electronics</td>\n",
       "      <td>Electronic Games</td>\n",
       "      <td>COD</td>\n",
       "    </tr>\n",
       "    <tr>\n",
       "      <th>1</th>\n",
       "      <td>B-26055</td>\n",
       "      <td>5729</td>\n",
       "      <td>64</td>\n",
       "      <td>14</td>\n",
       "      <td>Furniture</td>\n",
       "      <td>Chairs</td>\n",
       "      <td>EMI</td>\n",
       "    </tr>\n",
       "    <tr>\n",
       "      <th>2</th>\n",
       "      <td>B-25955</td>\n",
       "      <td>2927</td>\n",
       "      <td>146</td>\n",
       "      <td>8</td>\n",
       "      <td>Furniture</td>\n",
       "      <td>Bookcases</td>\n",
       "      <td>EMI</td>\n",
       "    </tr>\n",
       "    <tr>\n",
       "      <th>3</th>\n",
       "      <td>B-26093</td>\n",
       "      <td>2847</td>\n",
       "      <td>712</td>\n",
       "      <td>8</td>\n",
       "      <td>Electronics</td>\n",
       "      <td>Printers</td>\n",
       "      <td>Credit Card</td>\n",
       "    </tr>\n",
       "    <tr>\n",
       "      <th>4</th>\n",
       "      <td>B-25602</td>\n",
       "      <td>2617</td>\n",
       "      <td>1151</td>\n",
       "      <td>4</td>\n",
       "      <td>Electronics</td>\n",
       "      <td>Phones</td>\n",
       "      <td>Credit Card</td>\n",
       "    </tr>\n",
       "    <tr>\n",
       "      <th>5</th>\n",
       "      <td>B-25881</td>\n",
       "      <td>2244</td>\n",
       "      <td>247</td>\n",
       "      <td>4</td>\n",
       "      <td>Clothing</td>\n",
       "      <td>Trousers</td>\n",
       "      <td>Credit Card</td>\n",
       "    </tr>\n",
       "    <tr>\n",
       "      <th>6</th>\n",
       "      <td>B-25696</td>\n",
       "      <td>275</td>\n",
       "      <td>-275</td>\n",
       "      <td>4</td>\n",
       "      <td>Clothing</td>\n",
       "      <td>Saree</td>\n",
       "      <td>COD</td>\n",
       "    </tr>\n",
       "    <tr>\n",
       "      <th>7</th>\n",
       "      <td>B-25687</td>\n",
       "      <td>387</td>\n",
       "      <td>-213</td>\n",
       "      <td>5</td>\n",
       "      <td>Clothing</td>\n",
       "      <td>Saree</td>\n",
       "      <td>UPI</td>\n",
       "    </tr>\n",
       "    <tr>\n",
       "      <th>8</th>\n",
       "      <td>B-25643</td>\n",
       "      <td>50</td>\n",
       "      <td>-44</td>\n",
       "      <td>2</td>\n",
       "      <td>Clothing</td>\n",
       "      <td>Hankerchief</td>\n",
       "      <td>UPI</td>\n",
       "    </tr>\n",
       "    <tr>\n",
       "      <th>9</th>\n",
       "      <td>B-25851</td>\n",
       "      <td>135</td>\n",
       "      <td>-54</td>\n",
       "      <td>5</td>\n",
       "      <td>Clothing</td>\n",
       "      <td>Kurti</td>\n",
       "      <td>COD</td>\n",
       "    </tr>\n",
       "  </tbody>\n",
       "</table>\n",
       "</div>"
      ],
      "text/plain": [
       "  Order ID  Amount  Profit  Quantity     Category      Sub-Category  \\\n",
       "0  B-25681    1096     658         7  Electronics  Electronic Games   \n",
       "1  B-26055    5729      64        14    Furniture            Chairs   \n",
       "2  B-25955    2927     146         8    Furniture         Bookcases   \n",
       "3  B-26093    2847     712         8  Electronics          Printers   \n",
       "4  B-25602    2617    1151         4  Electronics            Phones   \n",
       "5  B-25881    2244     247         4     Clothing          Trousers   \n",
       "6  B-25696     275    -275         4     Clothing             Saree   \n",
       "7  B-25687     387    -213         5     Clothing             Saree   \n",
       "8  B-25643      50     -44         2     Clothing       Hankerchief   \n",
       "9  B-25851     135     -54         5     Clothing             Kurti   \n",
       "\n",
       "   PaymentMode  \n",
       "0          COD  \n",
       "1          EMI  \n",
       "2          EMI  \n",
       "3  Credit Card  \n",
       "4  Credit Card  \n",
       "5  Credit Card  \n",
       "6          COD  \n",
       "7          UPI  \n",
       "8          UPI  \n",
       "9          COD  "
      ]
     },
     "execution_count": 10,
     "metadata": {},
     "output_type": "execute_result"
    }
   ],
   "source": [
    "## creating dataframe from csv\n",
    "\n",
    "df = pd.read_csv('Details.csv')\n",
    "df.head(10) # get 1st 10 records"
   ]
  },
  {
   "cell_type": "code",
   "execution_count": 11,
   "id": "0d013ebc",
   "metadata": {},
   "outputs": [
    {
     "data": {
      "text/html": [
       "<div>\n",
       "<style scoped>\n",
       "    .dataframe tbody tr th:only-of-type {\n",
       "        vertical-align: middle;\n",
       "    }\n",
       "\n",
       "    .dataframe tbody tr th {\n",
       "        vertical-align: top;\n",
       "    }\n",
       "\n",
       "    .dataframe thead th {\n",
       "        text-align: right;\n",
       "    }\n",
       "</style>\n",
       "<table border=\"1\" class=\"dataframe\">\n",
       "  <thead>\n",
       "    <tr style=\"text-align: right;\">\n",
       "      <th></th>\n",
       "      <th>Order ID</th>\n",
       "      <th>Amount</th>\n",
       "      <th>Profit</th>\n",
       "      <th>Quantity</th>\n",
       "      <th>Category</th>\n",
       "      <th>Sub-Category</th>\n",
       "      <th>PaymentMode</th>\n",
       "    </tr>\n",
       "  </thead>\n",
       "  <tbody>\n",
       "    <tr>\n",
       "      <th>1495</th>\n",
       "      <td>B-25700</td>\n",
       "      <td>7</td>\n",
       "      <td>-3</td>\n",
       "      <td>2</td>\n",
       "      <td>Clothing</td>\n",
       "      <td>Hankerchief</td>\n",
       "      <td>COD</td>\n",
       "    </tr>\n",
       "    <tr>\n",
       "      <th>1496</th>\n",
       "      <td>B-25757</td>\n",
       "      <td>3151</td>\n",
       "      <td>-35</td>\n",
       "      <td>7</td>\n",
       "      <td>Clothing</td>\n",
       "      <td>Trousers</td>\n",
       "      <td>EMI</td>\n",
       "    </tr>\n",
       "    <tr>\n",
       "      <th>1497</th>\n",
       "      <td>B-25973</td>\n",
       "      <td>4141</td>\n",
       "      <td>1698</td>\n",
       "      <td>13</td>\n",
       "      <td>Electronics</td>\n",
       "      <td>Printers</td>\n",
       "      <td>COD</td>\n",
       "    </tr>\n",
       "    <tr>\n",
       "      <th>1498</th>\n",
       "      <td>B-25698</td>\n",
       "      <td>7</td>\n",
       "      <td>-2</td>\n",
       "      <td>1</td>\n",
       "      <td>Clothing</td>\n",
       "      <td>Hankerchief</td>\n",
       "      <td>COD</td>\n",
       "    </tr>\n",
       "    <tr>\n",
       "      <th>1499</th>\n",
       "      <td>B-25993</td>\n",
       "      <td>4363</td>\n",
       "      <td>305</td>\n",
       "      <td>5</td>\n",
       "      <td>Furniture</td>\n",
       "      <td>Tables</td>\n",
       "      <td>EMI</td>\n",
       "    </tr>\n",
       "  </tbody>\n",
       "</table>\n",
       "</div>"
      ],
      "text/plain": [
       "     Order ID  Amount  Profit  Quantity     Category Sub-Category PaymentMode\n",
       "1495  B-25700       7      -3         2     Clothing  Hankerchief         COD\n",
       "1496  B-25757    3151     -35         7     Clothing     Trousers         EMI\n",
       "1497  B-25973    4141    1698        13  Electronics     Printers         COD\n",
       "1498  B-25698       7      -2         1     Clothing  Hankerchief         COD\n",
       "1499  B-25993    4363     305         5    Furniture       Tables         EMI"
      ]
     },
     "execution_count": 11,
     "metadata": {},
     "output_type": "execute_result"
    }
   ],
   "source": [
    "df.tail(5) # get last 5 records"
   ]
  },
  {
   "cell_type": "code",
   "execution_count": 12,
   "id": "4c162f5f",
   "metadata": {},
   "outputs": [],
   "source": [
    "### Accessing data from dataframe\n",
    "\n",
    "data = {\n",
    "  'Name' : ['Aayush', 'Harvey', 'Mike', 'Louis'],\n",
    "  'Age': [22, 48, 38, 52],\n",
    "  'City': ['Pune', 'New York', 'Banglore', 'Noida']\n",
    "}\n",
    "\n",
    "df = pd.DataFrame(data)"
   ]
  },
  {
   "cell_type": "code",
   "execution_count": 13,
   "id": "01288a37",
   "metadata": {},
   "outputs": [
    {
     "data": {
      "text/html": [
       "<div>\n",
       "<style scoped>\n",
       "    .dataframe tbody tr th:only-of-type {\n",
       "        vertical-align: middle;\n",
       "    }\n",
       "\n",
       "    .dataframe tbody tr th {\n",
       "        vertical-align: top;\n",
       "    }\n",
       "\n",
       "    .dataframe thead th {\n",
       "        text-align: right;\n",
       "    }\n",
       "</style>\n",
       "<table border=\"1\" class=\"dataframe\">\n",
       "  <thead>\n",
       "    <tr style=\"text-align: right;\">\n",
       "      <th></th>\n",
       "      <th>Name</th>\n",
       "      <th>Age</th>\n",
       "      <th>City</th>\n",
       "    </tr>\n",
       "  </thead>\n",
       "  <tbody>\n",
       "    <tr>\n",
       "      <th>0</th>\n",
       "      <td>Aayush</td>\n",
       "      <td>22</td>\n",
       "      <td>Pune</td>\n",
       "    </tr>\n",
       "    <tr>\n",
       "      <th>1</th>\n",
       "      <td>Harvey</td>\n",
       "      <td>48</td>\n",
       "      <td>New York</td>\n",
       "    </tr>\n",
       "    <tr>\n",
       "      <th>2</th>\n",
       "      <td>Mike</td>\n",
       "      <td>38</td>\n",
       "      <td>Banglore</td>\n",
       "    </tr>\n",
       "    <tr>\n",
       "      <th>3</th>\n",
       "      <td>Louis</td>\n",
       "      <td>52</td>\n",
       "      <td>Noida</td>\n",
       "    </tr>\n",
       "  </tbody>\n",
       "</table>\n",
       "</div>"
      ],
      "text/plain": [
       "     Name  Age      City\n",
       "0  Aayush   22      Pune\n",
       "1  Harvey   48  New York\n",
       "2    Mike   38  Banglore\n",
       "3   Louis   52     Noida"
      ]
     },
     "execution_count": 13,
     "metadata": {},
     "output_type": "execute_result"
    }
   ],
   "source": [
    "df"
   ]
  },
  {
   "cell_type": "code",
   "execution_count": 16,
   "id": "7cf9139e",
   "metadata": {},
   "outputs": [
    {
     "data": {
      "text/plain": [
       "0    Aayush\n",
       "1    Harvey\n",
       "2      Mike\n",
       "3     Louis\n",
       "Name: Name, dtype: object"
      ]
     },
     "execution_count": 16,
     "metadata": {},
     "output_type": "execute_result"
    }
   ],
   "source": [
    "df['Name']"
   ]
  },
  {
   "cell_type": "code",
   "execution_count": 17,
   "id": "eebe6962",
   "metadata": {},
   "outputs": [
    {
     "data": {
      "text/plain": [
       "pandas.core.series.Series"
      ]
     },
     "execution_count": 17,
     "metadata": {},
     "output_type": "execute_result"
    }
   ],
   "source": [
    "type(df['Name'])"
   ]
  },
  {
   "cell_type": "code",
   "execution_count": null,
   "id": "a414ff1e",
   "metadata": {},
   "outputs": [
    {
     "data": {
      "text/plain": [
       "Name    Aayush\n",
       "Age         22\n",
       "City      Pune\n",
       "Name: 0, dtype: object"
      ]
     },
     "execution_count": 18,
     "metadata": {},
     "output_type": "execute_result"
    }
   ],
   "source": [
    "df.loc[0] # Accessing only w.r.t row"
   ]
  },
  {
   "cell_type": "code",
   "execution_count": 21,
   "id": "4228e6d9",
   "metadata": {},
   "outputs": [
    {
     "data": {
      "text/plain": [
       "'Aayush'"
      ]
     },
     "execution_count": 21,
     "metadata": {},
     "output_type": "execute_result"
    }
   ],
   "source": [
    "df.iloc[0, 0] # Accessing specific location"
   ]
  },
  {
   "cell_type": "code",
   "execution_count": 22,
   "id": "4305088f",
   "metadata": {},
   "outputs": [
    {
     "data": {
      "text/plain": [
       "0    Aayush\n",
       "1    Harvey\n",
       "2      Mike\n",
       "3     Louis\n",
       "Name: Name, dtype: object"
      ]
     },
     "execution_count": 22,
     "metadata": {},
     "output_type": "execute_result"
    }
   ],
   "source": [
    "## Accessing a specific element\n",
    "\n",
    "df['Name']"
   ]
  },
  {
   "cell_type": "code",
   "execution_count": 23,
   "id": "0338dd1d",
   "metadata": {},
   "outputs": [
    {
     "data": {
      "text/html": [
       "<div>\n",
       "<style scoped>\n",
       "    .dataframe tbody tr th:only-of-type {\n",
       "        vertical-align: middle;\n",
       "    }\n",
       "\n",
       "    .dataframe tbody tr th {\n",
       "        vertical-align: top;\n",
       "    }\n",
       "\n",
       "    .dataframe thead th {\n",
       "        text-align: right;\n",
       "    }\n",
       "</style>\n",
       "<table border=\"1\" class=\"dataframe\">\n",
       "  <thead>\n",
       "    <tr style=\"text-align: right;\">\n",
       "      <th></th>\n",
       "      <th>Name</th>\n",
       "      <th>Age</th>\n",
       "      <th>City</th>\n",
       "    </tr>\n",
       "  </thead>\n",
       "  <tbody>\n",
       "    <tr>\n",
       "      <th>0</th>\n",
       "      <td>Aayush</td>\n",
       "      <td>22</td>\n",
       "      <td>Pune</td>\n",
       "    </tr>\n",
       "    <tr>\n",
       "      <th>1</th>\n",
       "      <td>Harvey</td>\n",
       "      <td>48</td>\n",
       "      <td>New York</td>\n",
       "    </tr>\n",
       "    <tr>\n",
       "      <th>2</th>\n",
       "      <td>Mike</td>\n",
       "      <td>38</td>\n",
       "      <td>Banglore</td>\n",
       "    </tr>\n",
       "    <tr>\n",
       "      <th>3</th>\n",
       "      <td>Louis</td>\n",
       "      <td>52</td>\n",
       "      <td>Noida</td>\n",
       "    </tr>\n",
       "  </tbody>\n",
       "</table>\n",
       "</div>"
      ],
      "text/plain": [
       "     Name  Age      City\n",
       "0  Aayush   22      Pune\n",
       "1  Harvey   48  New York\n",
       "2    Mike   38  Banglore\n",
       "3   Louis   52     Noida"
      ]
     },
     "execution_count": 23,
     "metadata": {},
     "output_type": "execute_result"
    }
   ],
   "source": [
    "df"
   ]
  },
  {
   "cell_type": "code",
   "execution_count": 25,
   "id": "41954a6f",
   "metadata": {},
   "outputs": [
    {
     "name": "stdout",
     "output_type": "stream",
     "text": [
      "48\n"
     ]
    }
   ],
   "source": [
    "print(df.at[1, 'Age'])"
   ]
  },
  {
   "cell_type": "code",
   "execution_count": 26,
   "id": "4601bdf8",
   "metadata": {},
   "outputs": [
    {
     "data": {
      "text/plain": [
       "'Banglore'"
      ]
     },
     "execution_count": 26,
     "metadata": {},
     "output_type": "execute_result"
    }
   ],
   "source": [
    "df.iat[2,2]"
   ]
  },
  {
   "cell_type": "code",
   "execution_count": 27,
   "id": "20e6a106",
   "metadata": {},
   "outputs": [
    {
     "data": {
      "text/html": [
       "<div>\n",
       "<style scoped>\n",
       "    .dataframe tbody tr th:only-of-type {\n",
       "        vertical-align: middle;\n",
       "    }\n",
       "\n",
       "    .dataframe tbody tr th {\n",
       "        vertical-align: top;\n",
       "    }\n",
       "\n",
       "    .dataframe thead th {\n",
       "        text-align: right;\n",
       "    }\n",
       "</style>\n",
       "<table border=\"1\" class=\"dataframe\">\n",
       "  <thead>\n",
       "    <tr style=\"text-align: right;\">\n",
       "      <th></th>\n",
       "      <th>Name</th>\n",
       "      <th>Age</th>\n",
       "      <th>City</th>\n",
       "    </tr>\n",
       "  </thead>\n",
       "  <tbody>\n",
       "    <tr>\n",
       "      <th>0</th>\n",
       "      <td>Aayush</td>\n",
       "      <td>22</td>\n",
       "      <td>Pune</td>\n",
       "    </tr>\n",
       "    <tr>\n",
       "      <th>1</th>\n",
       "      <td>Harvey</td>\n",
       "      <td>48</td>\n",
       "      <td>New York</td>\n",
       "    </tr>\n",
       "    <tr>\n",
       "      <th>2</th>\n",
       "      <td>Mike</td>\n",
       "      <td>38</td>\n",
       "      <td>Banglore</td>\n",
       "    </tr>\n",
       "    <tr>\n",
       "      <th>3</th>\n",
       "      <td>Louis</td>\n",
       "      <td>52</td>\n",
       "      <td>Noida</td>\n",
       "    </tr>\n",
       "  </tbody>\n",
       "</table>\n",
       "</div>"
      ],
      "text/plain": [
       "     Name  Age      City\n",
       "0  Aayush   22      Pune\n",
       "1  Harvey   48  New York\n",
       "2    Mike   38  Banglore\n",
       "3   Louis   52     Noida"
      ]
     },
     "execution_count": 27,
     "metadata": {},
     "output_type": "execute_result"
    }
   ],
   "source": [
    "df"
   ]
  },
  {
   "cell_type": "code",
   "execution_count": 31,
   "id": "3c454597",
   "metadata": {},
   "outputs": [
    {
     "data": {
      "text/html": [
       "<div>\n",
       "<style scoped>\n",
       "    .dataframe tbody tr th:only-of-type {\n",
       "        vertical-align: middle;\n",
       "    }\n",
       "\n",
       "    .dataframe tbody tr th {\n",
       "        vertical-align: top;\n",
       "    }\n",
       "\n",
       "    .dataframe thead th {\n",
       "        text-align: right;\n",
       "    }\n",
       "</style>\n",
       "<table border=\"1\" class=\"dataframe\">\n",
       "  <thead>\n",
       "    <tr style=\"text-align: right;\">\n",
       "      <th></th>\n",
       "      <th>Name</th>\n",
       "      <th>Age</th>\n",
       "      <th>City</th>\n",
       "      <th>Salary</th>\n",
       "    </tr>\n",
       "  </thead>\n",
       "  <tbody>\n",
       "    <tr>\n",
       "      <th>0</th>\n",
       "      <td>Aayush</td>\n",
       "      <td>22</td>\n",
       "      <td>Pune</td>\n",
       "      <td>90000</td>\n",
       "    </tr>\n",
       "    <tr>\n",
       "      <th>1</th>\n",
       "      <td>Harvey</td>\n",
       "      <td>48</td>\n",
       "      <td>New York</td>\n",
       "      <td>200000</td>\n",
       "    </tr>\n",
       "    <tr>\n",
       "      <th>2</th>\n",
       "      <td>Mike</td>\n",
       "      <td>38</td>\n",
       "      <td>Banglore</td>\n",
       "      <td>150000</td>\n",
       "    </tr>\n",
       "    <tr>\n",
       "      <th>3</th>\n",
       "      <td>Louis</td>\n",
       "      <td>52</td>\n",
       "      <td>Noida</td>\n",
       "      <td>190000</td>\n",
       "    </tr>\n",
       "  </tbody>\n",
       "</table>\n",
       "</div>"
      ],
      "text/plain": [
       "     Name  Age      City  Salary\n",
       "0  Aayush   22      Pune   90000\n",
       "1  Harvey   48  New York  200000\n",
       "2    Mike   38  Banglore  150000\n",
       "3   Louis   52     Noida  190000"
      ]
     },
     "execution_count": 31,
     "metadata": {},
     "output_type": "execute_result"
    }
   ],
   "source": [
    "### Data manipulation with dataframes\n",
    "\n",
    "## Adding \"Salary\" column to the dataframe\n",
    "df['Salary'] = [90000, 200000, 150000, 190000]\n",
    "df"
   ]
  },
  {
   "cell_type": "code",
   "execution_count": null,
   "id": "a67d9553",
   "metadata": {},
   "outputs": [
    {
     "data": {
      "text/html": [
       "<div>\n",
       "<style scoped>\n",
       "    .dataframe tbody tr th:only-of-type {\n",
       "        vertical-align: middle;\n",
       "    }\n",
       "\n",
       "    .dataframe tbody tr th {\n",
       "        vertical-align: top;\n",
       "    }\n",
       "\n",
       "    .dataframe thead th {\n",
       "        text-align: right;\n",
       "    }\n",
       "</style>\n",
       "<table border=\"1\" class=\"dataframe\">\n",
       "  <thead>\n",
       "    <tr style=\"text-align: right;\">\n",
       "      <th></th>\n",
       "      <th>Name</th>\n",
       "      <th>Age</th>\n",
       "      <th>City</th>\n",
       "      <th>Salary</th>\n",
       "    </tr>\n",
       "  </thead>\n",
       "  <tbody>\n",
       "    <tr>\n",
       "      <th>0</th>\n",
       "      <td>Aayush</td>\n",
       "      <td>22</td>\n",
       "      <td>Pune</td>\n",
       "      <td>90000</td>\n",
       "    </tr>\n",
       "    <tr>\n",
       "      <th>1</th>\n",
       "      <td>Harvey</td>\n",
       "      <td>48</td>\n",
       "      <td>New York</td>\n",
       "      <td>200000</td>\n",
       "    </tr>\n",
       "    <tr>\n",
       "      <th>2</th>\n",
       "      <td>Mike</td>\n",
       "      <td>38</td>\n",
       "      <td>Banglore</td>\n",
       "      <td>150000</td>\n",
       "    </tr>\n",
       "    <tr>\n",
       "      <th>3</th>\n",
       "      <td>Louis</td>\n",
       "      <td>52</td>\n",
       "      <td>Noida</td>\n",
       "      <td>190000</td>\n",
       "    </tr>\n",
       "  </tbody>\n",
       "</table>\n",
       "</div>"
      ],
      "text/plain": [
       "     Name  Age      City  Salary\n",
       "0  Aayush   22      Pune   90000\n",
       "1  Harvey   48  New York  200000\n",
       "2    Mike   38  Banglore  150000\n",
       "3   Louis   52     Noida  190000"
      ]
     },
     "execution_count": 30,
     "metadata": {},
     "output_type": "execute_result"
    }
   ],
   "source": [
    "## Remove a  column\n"
   ]
  },
  {
   "cell_type": "code",
   "execution_count": null,
   "id": "1980db47",
   "metadata": {},
   "outputs": [
    {
     "data": {
      "text/html": [
       "<div>\n",
       "<style scoped>\n",
       "    .dataframe tbody tr th:only-of-type {\n",
       "        vertical-align: middle;\n",
       "    }\n",
       "\n",
       "    .dataframe tbody tr th {\n",
       "        vertical-align: top;\n",
       "    }\n",
       "\n",
       "    .dataframe thead th {\n",
       "        text-align: right;\n",
       "    }\n",
       "</style>\n",
       "<table border=\"1\" class=\"dataframe\">\n",
       "  <thead>\n",
       "    <tr style=\"text-align: right;\">\n",
       "      <th></th>\n",
       "      <th>Name</th>\n",
       "      <th>Age</th>\n",
       "      <th>City</th>\n",
       "    </tr>\n",
       "  </thead>\n",
       "  <tbody>\n",
       "    <tr>\n",
       "      <th>0</th>\n",
       "      <td>Aayush</td>\n",
       "      <td>22</td>\n",
       "      <td>Pune</td>\n",
       "    </tr>\n",
       "    <tr>\n",
       "      <th>1</th>\n",
       "      <td>Harvey</td>\n",
       "      <td>48</td>\n",
       "      <td>New York</td>\n",
       "    </tr>\n",
       "    <tr>\n",
       "      <th>2</th>\n",
       "      <td>Mike</td>\n",
       "      <td>38</td>\n",
       "      <td>Banglore</td>\n",
       "    </tr>\n",
       "    <tr>\n",
       "      <th>3</th>\n",
       "      <td>Louis</td>\n",
       "      <td>52</td>\n",
       "      <td>Noida</td>\n",
       "    </tr>\n",
       "  </tbody>\n",
       "</table>\n",
       "</div>"
      ],
      "text/plain": [
       "     Name  Age      City\n",
       "0  Aayush   22      Pune\n",
       "1  Harvey   48  New York\n",
       "2    Mike   38  Banglore\n",
       "3   Louis   52     Noida"
      ]
     },
     "execution_count": 34,
     "metadata": {},
     "output_type": "execute_result"
    }
   ],
   "source": [
    "df.drop('Salary', axis=1) # axis = 0 -> Rows, axis = 1 -> Columns\n",
    "# not permanant operation"
   ]
  },
  {
   "cell_type": "code",
   "execution_count": 35,
   "id": "ae097dd8",
   "metadata": {},
   "outputs": [
    {
     "data": {
      "text/html": [
       "<div>\n",
       "<style scoped>\n",
       "    .dataframe tbody tr th:only-of-type {\n",
       "        vertical-align: middle;\n",
       "    }\n",
       "\n",
       "    .dataframe tbody tr th {\n",
       "        vertical-align: top;\n",
       "    }\n",
       "\n",
       "    .dataframe thead th {\n",
       "        text-align: right;\n",
       "    }\n",
       "</style>\n",
       "<table border=\"1\" class=\"dataframe\">\n",
       "  <thead>\n",
       "    <tr style=\"text-align: right;\">\n",
       "      <th></th>\n",
       "      <th>Name</th>\n",
       "      <th>Age</th>\n",
       "      <th>City</th>\n",
       "      <th>Salary</th>\n",
       "    </tr>\n",
       "  </thead>\n",
       "  <tbody>\n",
       "    <tr>\n",
       "      <th>0</th>\n",
       "      <td>Aayush</td>\n",
       "      <td>22</td>\n",
       "      <td>Pune</td>\n",
       "      <td>90000</td>\n",
       "    </tr>\n",
       "    <tr>\n",
       "      <th>1</th>\n",
       "      <td>Harvey</td>\n",
       "      <td>48</td>\n",
       "      <td>New York</td>\n",
       "      <td>200000</td>\n",
       "    </tr>\n",
       "    <tr>\n",
       "      <th>2</th>\n",
       "      <td>Mike</td>\n",
       "      <td>38</td>\n",
       "      <td>Banglore</td>\n",
       "      <td>150000</td>\n",
       "    </tr>\n",
       "    <tr>\n",
       "      <th>3</th>\n",
       "      <td>Louis</td>\n",
       "      <td>52</td>\n",
       "      <td>Noida</td>\n",
       "      <td>190000</td>\n",
       "    </tr>\n",
       "  </tbody>\n",
       "</table>\n",
       "</div>"
      ],
      "text/plain": [
       "     Name  Age      City  Salary\n",
       "0  Aayush   22      Pune   90000\n",
       "1  Harvey   48  New York  200000\n",
       "2    Mike   38  Banglore  150000\n",
       "3   Louis   52     Noida  190000"
      ]
     },
     "execution_count": 35,
     "metadata": {},
     "output_type": "execute_result"
    }
   ],
   "source": [
    "df"
   ]
  },
  {
   "cell_type": "code",
   "execution_count": 37,
   "id": "a6e28d50",
   "metadata": {},
   "outputs": [
    {
     "data": {
      "text/html": [
       "<div>\n",
       "<style scoped>\n",
       "    .dataframe tbody tr th:only-of-type {\n",
       "        vertical-align: middle;\n",
       "    }\n",
       "\n",
       "    .dataframe tbody tr th {\n",
       "        vertical-align: top;\n",
       "    }\n",
       "\n",
       "    .dataframe thead th {\n",
       "        text-align: right;\n",
       "    }\n",
       "</style>\n",
       "<table border=\"1\" class=\"dataframe\">\n",
       "  <thead>\n",
       "    <tr style=\"text-align: right;\">\n",
       "      <th></th>\n",
       "      <th>Name</th>\n",
       "      <th>Age</th>\n",
       "      <th>City</th>\n",
       "    </tr>\n",
       "  </thead>\n",
       "  <tbody>\n",
       "    <tr>\n",
       "      <th>0</th>\n",
       "      <td>Aayush</td>\n",
       "      <td>22</td>\n",
       "      <td>Pune</td>\n",
       "    </tr>\n",
       "    <tr>\n",
       "      <th>1</th>\n",
       "      <td>Harvey</td>\n",
       "      <td>48</td>\n",
       "      <td>New York</td>\n",
       "    </tr>\n",
       "    <tr>\n",
       "      <th>2</th>\n",
       "      <td>Mike</td>\n",
       "      <td>38</td>\n",
       "      <td>Banglore</td>\n",
       "    </tr>\n",
       "    <tr>\n",
       "      <th>3</th>\n",
       "      <td>Louis</td>\n",
       "      <td>52</td>\n",
       "      <td>Noida</td>\n",
       "    </tr>\n",
       "  </tbody>\n",
       "</table>\n",
       "</div>"
      ],
      "text/plain": [
       "     Name  Age      City\n",
       "0  Aayush   22      Pune\n",
       "1  Harvey   48  New York\n",
       "2    Mike   38  Banglore\n",
       "3   Louis   52     Noida"
      ]
     },
     "execution_count": 37,
     "metadata": {},
     "output_type": "execute_result"
    }
   ],
   "source": [
    "# Use inplace=True to make the drop action permanant\n",
    "df.drop('Salary', axis=1, inplace=True)\n",
    "df"
   ]
  },
  {
   "cell_type": "code",
   "execution_count": 38,
   "id": "0a809e75",
   "metadata": {},
   "outputs": [],
   "source": [
    "df['Age'] = df['Age'] + 1"
   ]
  },
  {
   "cell_type": "code",
   "execution_count": 39,
   "id": "6e316e0e",
   "metadata": {},
   "outputs": [
    {
     "data": {
      "text/html": [
       "<div>\n",
       "<style scoped>\n",
       "    .dataframe tbody tr th:only-of-type {\n",
       "        vertical-align: middle;\n",
       "    }\n",
       "\n",
       "    .dataframe tbody tr th {\n",
       "        vertical-align: top;\n",
       "    }\n",
       "\n",
       "    .dataframe thead th {\n",
       "        text-align: right;\n",
       "    }\n",
       "</style>\n",
       "<table border=\"1\" class=\"dataframe\">\n",
       "  <thead>\n",
       "    <tr style=\"text-align: right;\">\n",
       "      <th></th>\n",
       "      <th>Name</th>\n",
       "      <th>Age</th>\n",
       "      <th>City</th>\n",
       "    </tr>\n",
       "  </thead>\n",
       "  <tbody>\n",
       "    <tr>\n",
       "      <th>0</th>\n",
       "      <td>Aayush</td>\n",
       "      <td>23</td>\n",
       "      <td>Pune</td>\n",
       "    </tr>\n",
       "    <tr>\n",
       "      <th>1</th>\n",
       "      <td>Harvey</td>\n",
       "      <td>49</td>\n",
       "      <td>New York</td>\n",
       "    </tr>\n",
       "    <tr>\n",
       "      <th>2</th>\n",
       "      <td>Mike</td>\n",
       "      <td>39</td>\n",
       "      <td>Banglore</td>\n",
       "    </tr>\n",
       "    <tr>\n",
       "      <th>3</th>\n",
       "      <td>Louis</td>\n",
       "      <td>53</td>\n",
       "      <td>Noida</td>\n",
       "    </tr>\n",
       "  </tbody>\n",
       "</table>\n",
       "</div>"
      ],
      "text/plain": [
       "     Name  Age      City\n",
       "0  Aayush   23      Pune\n",
       "1  Harvey   49  New York\n",
       "2    Mike   39  Banglore\n",
       "3   Louis   53     Noida"
      ]
     },
     "execution_count": 39,
     "metadata": {},
     "output_type": "execute_result"
    }
   ],
   "source": [
    "df"
   ]
  },
  {
   "cell_type": "code",
   "execution_count": 40,
   "id": "f905a410",
   "metadata": {},
   "outputs": [
    {
     "data": {
      "text/html": [
       "<div>\n",
       "<style scoped>\n",
       "    .dataframe tbody tr th:only-of-type {\n",
       "        vertical-align: middle;\n",
       "    }\n",
       "\n",
       "    .dataframe tbody tr th {\n",
       "        vertical-align: top;\n",
       "    }\n",
       "\n",
       "    .dataframe thead th {\n",
       "        text-align: right;\n",
       "    }\n",
       "</style>\n",
       "<table border=\"1\" class=\"dataframe\">\n",
       "  <thead>\n",
       "    <tr style=\"text-align: right;\">\n",
       "      <th></th>\n",
       "      <th>Name</th>\n",
       "      <th>Age</th>\n",
       "      <th>City</th>\n",
       "    </tr>\n",
       "  </thead>\n",
       "  <tbody>\n",
       "    <tr>\n",
       "      <th>0</th>\n",
       "      <td>Aayush</td>\n",
       "      <td>23</td>\n",
       "      <td>Pune</td>\n",
       "    </tr>\n",
       "    <tr>\n",
       "      <th>1</th>\n",
       "      <td>Harvey</td>\n",
       "      <td>49</td>\n",
       "      <td>New York</td>\n",
       "    </tr>\n",
       "    <tr>\n",
       "      <th>2</th>\n",
       "      <td>Mike</td>\n",
       "      <td>39</td>\n",
       "      <td>Banglore</td>\n",
       "    </tr>\n",
       "  </tbody>\n",
       "</table>\n",
       "</div>"
      ],
      "text/plain": [
       "     Name  Age      City\n",
       "0  Aayush   23      Pune\n",
       "1  Harvey   49  New York\n",
       "2    Mike   39  Banglore"
      ]
     },
     "execution_count": 40,
     "metadata": {},
     "output_type": "execute_result"
    }
   ],
   "source": [
    "# Drop a  row\n",
    "df.drop(3, inplace=True)\n",
    "df"
   ]
  },
  {
   "cell_type": "code",
   "execution_count": 43,
   "id": "3a4b4285",
   "metadata": {},
   "outputs": [],
   "source": [
    "df = pd.read_csv('Details.csv')"
   ]
  },
  {
   "cell_type": "code",
   "execution_count": 44,
   "id": "fda20290",
   "metadata": {},
   "outputs": [
    {
     "name": "stdout",
     "output_type": "stream",
     "text": [
      "Data types:\n",
      " Order ID        object\n",
      "Amount           int64\n",
      "Profit           int64\n",
      "Quantity         int64\n",
      "Category        object\n",
      "Sub-Category    object\n",
      "PaymentMode     object\n",
      "dtype: object\n"
     ]
    },
    {
     "data": {
      "text/html": [
       "<div>\n",
       "<style scoped>\n",
       "    .dataframe tbody tr th:only-of-type {\n",
       "        vertical-align: middle;\n",
       "    }\n",
       "\n",
       "    .dataframe tbody tr th {\n",
       "        vertical-align: top;\n",
       "    }\n",
       "\n",
       "    .dataframe thead th {\n",
       "        text-align: right;\n",
       "    }\n",
       "</style>\n",
       "<table border=\"1\" class=\"dataframe\">\n",
       "  <thead>\n",
       "    <tr style=\"text-align: right;\">\n",
       "      <th></th>\n",
       "      <th>Amount</th>\n",
       "      <th>Profit</th>\n",
       "      <th>Quantity</th>\n",
       "    </tr>\n",
       "  </thead>\n",
       "  <tbody>\n",
       "    <tr>\n",
       "      <th>count</th>\n",
       "      <td>1500.000000</td>\n",
       "      <td>1500.00000</td>\n",
       "      <td>1500.000000</td>\n",
       "    </tr>\n",
       "    <tr>\n",
       "      <th>mean</th>\n",
       "      <td>291.847333</td>\n",
       "      <td>24.64200</td>\n",
       "      <td>3.743333</td>\n",
       "    </tr>\n",
       "    <tr>\n",
       "      <th>std</th>\n",
       "      <td>461.924620</td>\n",
       "      <td>168.55881</td>\n",
       "      <td>2.184942</td>\n",
       "    </tr>\n",
       "    <tr>\n",
       "      <th>min</th>\n",
       "      <td>4.000000</td>\n",
       "      <td>-1981.00000</td>\n",
       "      <td>1.000000</td>\n",
       "    </tr>\n",
       "    <tr>\n",
       "      <th>25%</th>\n",
       "      <td>47.750000</td>\n",
       "      <td>-12.00000</td>\n",
       "      <td>2.000000</td>\n",
       "    </tr>\n",
       "    <tr>\n",
       "      <th>50%</th>\n",
       "      <td>122.000000</td>\n",
       "      <td>8.00000</td>\n",
       "      <td>3.000000</td>\n",
       "    </tr>\n",
       "    <tr>\n",
       "      <th>75%</th>\n",
       "      <td>326.250000</td>\n",
       "      <td>38.00000</td>\n",
       "      <td>5.000000</td>\n",
       "    </tr>\n",
       "    <tr>\n",
       "      <th>max</th>\n",
       "      <td>5729.000000</td>\n",
       "      <td>1864.00000</td>\n",
       "      <td>14.000000</td>\n",
       "    </tr>\n",
       "  </tbody>\n",
       "</table>\n",
       "</div>"
      ],
      "text/plain": [
       "            Amount      Profit     Quantity\n",
       "count  1500.000000  1500.00000  1500.000000\n",
       "mean    291.847333    24.64200     3.743333\n",
       "std     461.924620   168.55881     2.184942\n",
       "min       4.000000 -1981.00000     1.000000\n",
       "25%      47.750000   -12.00000     2.000000\n",
       "50%     122.000000     8.00000     3.000000\n",
       "75%     326.250000    38.00000     5.000000\n",
       "max    5729.000000  1864.00000    14.000000"
      ]
     },
     "execution_count": 44,
     "metadata": {},
     "output_type": "execute_result"
    }
   ],
   "source": [
    "# Display the data-types of each column\n",
    "print(\"Data types:\\n\", df.dtypes)\n",
    "\n",
    "# describe the dataframe\n",
    "df.describe()\n"
   ]
  },
  {
   "cell_type": "code",
   "execution_count": null,
   "id": "2c3a7e70",
   "metadata": {},
   "outputs": [],
   "source": []
  }
 ],
 "metadata": {
  "kernelspec": {
   "display_name": "Python 3",
   "language": "python",
   "name": "python3"
  },
  "language_info": {
   "codemirror_mode": {
    "name": "ipython",
    "version": 3
   },
   "file_extension": ".py",
   "mimetype": "text/x-python",
   "name": "python",
   "nbconvert_exporter": "python",
   "pygments_lexer": "ipython3",
   "version": "3.13.0"
  }
 },
 "nbformat": 4,
 "nbformat_minor": 5
}
